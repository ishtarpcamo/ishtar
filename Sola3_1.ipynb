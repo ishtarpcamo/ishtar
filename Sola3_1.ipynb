{
  "nbformat": 4,
  "nbformat_minor": 0,
  "metadata": {
    "colab": {
      "provenance": [],
      "authorship_tag": "ABX9TyMTYBiSd186E0I+8ePjHFip",
      "include_colab_link": true
    },
    "kernelspec": {
      "name": "python3",
      "display_name": "Python 3"
    },
    "language_info": {
      "name": "python"
    }
  },
  "cells": [
    {
      "cell_type": "markdown",
      "metadata": {
        "id": "view-in-github",
        "colab_type": "text"
      },
      "source": [
        "<a href=\"https://colab.research.google.com/github/ishtarpcamo/ishtar/blob/main/Sola3_1.ipynb\" target=\"_parent\"><img src=\"https://colab.research.google.com/assets/colab-badge.svg\" alt=\"Open In Colab\"/></a>"
      ]
    },
    {
      "cell_type": "markdown",
      "source": [
        "سوال 3-1"
      ],
      "metadata": {
        "id": "nyxqktB4jvmC"
      }
    },
    {
      "cell_type": "code",
      "execution_count": null,
      "metadata": {
        "colab": {
          "base_uri": "https://localhost:8080/"
        },
        "id": "WhuuiKZ9f1gg",
        "outputId": "711df1f8-5ca8-4e10-c51e-c21b282fb49f"
      },
      "outputs": [
        {
          "output_type": "stream",
          "name": "stdout",
          "text": [
            "تعداد ردیف‌های بخش آموزش: 871\n",
            "تعداد ردیف‌های بخش آزمون: 154\n"
          ]
        }
      ],
      "source": [
        "import pandas as pd\n",
        "from sklearn.model_selection import train_test_split\n",
        "\n",
        "# بارگذاری دیتاست\n",
        "data = pd.read_csv('/content/heart.csv')\n",
        "\n",
        "# تقسیم داده‌ها به دو بخش آموزش و آزمون\n",
        "train_data, test_data = train_test_split(data, test_size=0.15, random_state=42)\n",
        "\n",
        "# نمایش تعداد ردیف‌های هر بخش\n",
        "print(\"تعداد ردیف‌های بخش آموزش:\", len(train_data))\n",
        "print(\"تعداد ردیف‌های بخش آزمون:\", len(test_data))"
      ]
    },
    {
      "cell_type": "code",
      "source": [
        "from sklearn.tree import DecisionTreeClassifier\n",
        "from sklearn.metrics import accuracy_score, classification_report\n",
        "from sklearn.preprocessing import LabelEncoder\n",
        "\n",
        "# بارگذاری دیتاست\n",
        "data = pd.read_csv('/content/heart.csv')\n",
        "\n",
        "# تبدیل متغیرهای متنی به عددی\n",
        "label_encoder = LabelEncoder()\n",
        "data['target'] = label_encoder.fit_transform(data['target'])\n",
        "\n",
        "# تقسیم داده‌ها به بخش‌های آموزش و آزمون\n",
        "X = data.drop('target', axis=1)\n",
        "y = data['target']\n",
        "X_train, X_test, y_train, y_test = train_test_split(X, y, test_size=0.15, random_state=42)\n",
        "\n",
        "# طراحی و آموزش درخت تصمیمی\n",
        "clf = DecisionTreeClassifier()\n",
        "clf.fit(X_train, y_train)\n",
        "\n",
        "# پیش‌بینی برچسب‌ها برای داده‌های آزمون\n",
        "y_pred = clf.predict(X_test)\n",
        "\n",
        "# ارزیابی دقت مدل\n",
        "accuracy = accuracy_score(y_test, y_pred)\n",
        "print(\"دقت مدل:\", accuracy)\n",
        "\n",
        "# نمایش گزارش طبقه‌بندی\n",
        "print(classification_report(y_test, y_pred))"
      ],
      "metadata": {
        "colab": {
          "base_uri": "https://localhost:8080/"
        },
        "id": "iFThGxsVk5zH",
        "outputId": "dc4cdbeb-96b5-46cd-a222-4561112b6d2f"
      },
      "execution_count": null,
      "outputs": [
        {
          "output_type": "stream",
          "name": "stdout",
          "text": [
            "دقت مدل: 0.9805194805194806\n",
            "              precision    recall  f1-score   support\n",
            "\n",
            "           0       0.96      1.00      0.98        78\n",
            "           1       1.00      0.96      0.98        76\n",
            "\n",
            "    accuracy                           0.98       154\n",
            "   macro avg       0.98      0.98      0.98       154\n",
            "weighted avg       0.98      0.98      0.98       154\n",
            "\n"
          ]
        }
      ]
    },
    {
      "cell_type": "markdown",
      "source": [
        "قسمت دوم سوال سوم"
      ],
      "metadata": {
        "id": "iCN4YJbClKmQ"
      }
    },
    {
      "cell_type": "code",
      "source": [
        "from sklearn.metrics import confusion_matrix, accuracy_score, precision_score, recall_score\n",
        "from sklearn.tree import DecisionTreeClassifier\n",
        "\n",
        "# طراحی و آموزش درخت تصمیمی با فراپارامترهای مختلف\n",
        "def train_decision_tree(max_depth, min_samples_split):\n",
        "    clf = DecisionTreeClassifier(max_depth=max_depth, min_samples_split=min_samples_split)\n",
        "    clf.fit(X_train, y_train)\n",
        "    y_pred = clf.predict(X_test)\n",
        "\n",
        "    # ارزیابی با استفاده از ماتریس درهم‌ریختگی و شاخص‌های ارزیابی\n",
        "    cm = confusion_matrix(y_test, y_pred)\n",
        "    accuracy = accuracy_score(y_test, y_pred)\n",
        "    precision = precision_score(y_test, y_pred)\n",
        "    recall = recall_score(y_test, y_pred)\n",
        "\n",
        "    return cm, accuracy, precision, recall\n",
        "\n",
        "# ارزیابی با فراپارامترهای مختلف\n",
        "max_depth_values = [3, 5, 7]\n",
        "min_samples_split_values = [2, 5, 10]\n",
        "\n",
        "for max_depth in max_depth_values:\n",
        "    for min_samples_split in min_samples_split_values:\n",
        "        cm, accuracy, precision, recall = train_decision_tree(max_depth, min_samples_split)\n",
        "        print(f\"Max Depth: {max_depth}, Min Samples Split: {min_samples_split}\")\n",
        "        print(\"Confusion Matrix:\")\n",
        "        print(cm)\n",
        "        print(\"Accuracy:\", accuracy)\n",
        "        print(\"Precision:\", precision)\n",
        "        print(\"Recall:\", recall)\n",
        "        print(\"--------------------------------------------------\")"
      ],
      "metadata": {
        "colab": {
          "base_uri": "https://localhost:8080/"
        },
        "id": "e9lBotMXlNUX",
        "outputId": "18e7e99e-4a58-4d7e-f2a2-3ea4a7faee01"
      },
      "execution_count": null,
      "outputs": [
        {
          "output_type": "stream",
          "name": "stdout",
          "text": [
            "Max Depth: 3, Min Samples Split: 2\n",
            "Confusion Matrix:\n",
            "[[53 25]\n",
            " [ 6 70]]\n",
            "Accuracy: 0.7987012987012987\n",
            "Precision: 0.7368421052631579\n",
            "Recall: 0.9210526315789473\n",
            "--------------------------------------------------\n",
            "Max Depth: 3, Min Samples Split: 5\n",
            "Confusion Matrix:\n",
            "[[53 25]\n",
            " [ 6 70]]\n",
            "Accuracy: 0.7987012987012987\n",
            "Precision: 0.7368421052631579\n",
            "Recall: 0.9210526315789473\n",
            "--------------------------------------------------\n",
            "Max Depth: 3, Min Samples Split: 10\n",
            "Confusion Matrix:\n",
            "[[53 25]\n",
            " [ 6 70]]\n",
            "Accuracy: 0.7987012987012987\n",
            "Precision: 0.7368421052631579\n",
            "Recall: 0.9210526315789473\n",
            "--------------------------------------------------\n",
            "Max Depth: 5, Min Samples Split: 2\n",
            "Confusion Matrix:\n",
            "[[55 23]\n",
            " [ 3 73]]\n",
            "Accuracy: 0.8311688311688312\n",
            "Precision: 0.7604166666666666\n",
            "Recall: 0.9605263157894737\n",
            "--------------------------------------------------\n",
            "Max Depth: 5, Min Samples Split: 5\n",
            "Confusion Matrix:\n",
            "[[55 23]\n",
            " [ 3 73]]\n",
            "Accuracy: 0.8311688311688312\n",
            "Precision: 0.7604166666666666\n",
            "Recall: 0.9605263157894737\n",
            "--------------------------------------------------\n",
            "Max Depth: 5, Min Samples Split: 10\n",
            "Confusion Matrix:\n",
            "[[55 23]\n",
            " [ 3 73]]\n",
            "Accuracy: 0.8311688311688312\n",
            "Precision: 0.7604166666666666\n",
            "Recall: 0.9605263157894737\n",
            "--------------------------------------------------\n",
            "Max Depth: 7, Min Samples Split: 2\n",
            "Confusion Matrix:\n",
            "[[76  2]\n",
            " [ 5 71]]\n",
            "Accuracy: 0.9545454545454546\n",
            "Precision: 0.9726027397260274\n",
            "Recall: 0.9342105263157895\n",
            "--------------------------------------------------\n",
            "Max Depth: 7, Min Samples Split: 5\n",
            "Confusion Matrix:\n",
            "[[76  2]\n",
            " [ 6 70]]\n",
            "Accuracy: 0.948051948051948\n",
            "Precision: 0.9722222222222222\n",
            "Recall: 0.9210526315789473\n",
            "--------------------------------------------------\n",
            "Max Depth: 7, Min Samples Split: 10\n",
            "Confusion Matrix:\n",
            "[[73  5]\n",
            " [ 6 70]]\n",
            "Accuracy: 0.9285714285714286\n",
            "Precision: 0.9333333333333333\n",
            "Recall: 0.9210526315789473\n",
            "--------------------------------------------------\n"
          ]
        }
      ]
    },
    {
      "cell_type": "markdown",
      "source": [
        "**قسمت** سوم"
      ],
      "metadata": {
        "id": "XE63hQE-mHZ_"
      }
    },
    {
      "cell_type": "code",
      "source": [
        "from sklearn.ensemble import RandomForestClassifier\n",
        "from sklearn.metrics import accuracy_score\n",
        "\n",
        "# ایجاد یک مدل Random Forest با تعداد درخت‌های 100 و عمق درخت‌ها 10\n",
        "rf_model = RandomForestClassifier(n_estimators=100, max_depth=10, random_state=42)\n",
        "\n",
        "# آموزش مدل\n",
        "rf_model.fit(X_train, y_train)\n",
        "\n",
        "# پیش‌بینی برای داده‌های آموزش و آزمون\n",
        "train_pred = rf_model.predict(X_train)\n",
        "test_pred = rf_model.predict(X_test)\n",
        "\n",
        "# محاسبه دقت مدل\n",
        "train_accuracy = accuracy_score(y_train, train_pred)\n",
        "test_accuracy = accuracy_score(y_test, test_pred)\n",
        "\n",
        "print(f\"دقت مدل برای داده‌های آموزش: {train_accuracy}\")\n",
        "print(f\"دقت مدل برای داده‌های آزمون: {test_accuracy}\")"
      ],
      "metadata": {
        "colab": {
          "base_uri": "https://localhost:8080/"
        },
        "id": "lEEoSRxgmJTd",
        "outputId": "debf7d09-e162-4515-d49c-0f57286cadef"
      },
      "execution_count": null,
      "outputs": [
        {
          "output_type": "stream",
          "name": "stdout",
          "text": [
            "دقت مدل برای داده‌های آموزش: 1.0\n",
            "دقت مدل برای داده‌های آزمون: 0.9805194805194806\n"
          ]
        }
      ]
    },
    {
      "cell_type": "code",
      "source": [
        "from sklearn.model_selection import GridSearchCV\n",
        "from sklearn.ensemble import RandomForestClassifier\n",
        "\n",
        "# تعریف مدل Random Forest\n",
        "rf_model = RandomForestClassifier()\n",
        "\n",
        "# تعیین فراپارامترهای مختلف برای GridSearch\n",
        "param_grid = {\n",
        "    'n_estimators': [50, 100, 200],\n",
        "    'max_depth': [5, 10, 15],\n",
        "    'min_samples_split': [2, 5, 10],\n",
        "    'min_samples_leaf': [1, 2, 4]\n",
        "}\n",
        "\n",
        "# ایجاد GridSearch با مدل و فراپارامترهای تعیین شده\n",
        "grid_search = GridSearchCV(estimator=rf_model, param_grid=param_grid, cv=5, scoring='accuracy')\n",
        "\n",
        "# آموزش GridSearch بر روی داده‌های آموزش\n",
        "grid_search.fit(X_train, y_train)\n",
        "\n",
        "# بهترین فراپارامترها و دقت مدل به دست آمده\n",
        "best_params = grid_search.best_params_\n",
        "best_accuracy = grid_search.best_score_\n",
        "\n",
        "print(\"بهترین فراپارامترها:\")\n",
        "print(best_params)\n",
        "print(\"دقت مدل با بهترین فراپارامترها:\")\n",
        "print(best_accuracy)"
      ],
      "metadata": {
        "colab": {
          "base_uri": "https://localhost:8080/"
        },
        "id": "ND96t2symbel",
        "outputId": "b8b986d3-eb09-458d-d139-5d46922f4f8e"
      },
      "execution_count": null,
      "outputs": [
        {
          "output_type": "stream",
          "name": "stdout",
          "text": [
            "بهترین فراپارامترها:\n",
            "{'max_depth': 15, 'min_samples_leaf': 1, 'min_samples_split': 2, 'n_estimators': 50}\n",
            "دقت مدل با بهترین فراپارامترها:\n",
            "0.9942528735632183\n"
          ]
        }
      ]
    },
    {
      "cell_type": "markdown",
      "source": [
        "سوال چهار"
      ],
      "metadata": {
        "id": "Yt_u4eJTn011"
      }
    },
    {
      "cell_type": "markdown",
      "source": [
        "بارگیری داده‌ها و نمایش چند ردیف ابتدایی:"
      ],
      "metadata": {
        "id": "uEtrT4P6n26K"
      }
    },
    {
      "cell_type": "code",
      "source": [
        "import pandas as pd\n",
        "\n",
        "data = pd.read_csv(\"drug200.csv\")\n",
        "print(data.head())"
      ],
      "metadata": {
        "colab": {
          "base_uri": "https://localhost:8080/"
        },
        "id": "ixGUDIFbn4B6",
        "outputId": "8160a101-b310-4a6d-da7c-b49a5235be7d"
      },
      "execution_count": null,
      "outputs": [
        {
          "output_type": "stream",
          "name": "stdout",
          "text": [
            "   Age Sex      BP Cholesterol  Na_to_K   Drug\n",
            "0   23   F    HIGH        HIGH   25.355  drugY\n",
            "1   47   M     LOW        HIGH   13.093  drugC\n",
            "2   47   M     LOW        HIGH   10.114  drugC\n",
            "3   28   F  NORMAL        HIGH    7.798  drugX\n",
            "4   61   F     LOW        HIGH   18.043  drugY\n"
          ]
        }
      ]
    },
    {
      "cell_type": "markdown",
      "source": [
        "تقسیم داده‌ها به بخش‌های آموزش و آزمون"
      ],
      "metadata": {
        "id": "YPkzMU9FJqNH"
      }
    },
    {
      "cell_type": "code",
      "source": [
        "import pandas as pd\n",
        "from sklearn.model_selection import train_test_split\n",
        "from sklearn.preprocessing import StandardScaler\n",
        "\n",
        "# خواندن داده از فایل CSV\n",
        "data = pd.read_csv('/content/heart.csv')\n",
        "\n",
        "# تقسیم داده‌ها به ویژگی‌ها (X) و برچسب‌ها (y)\n",
        "X = data.drop('target', axis=1)\n",
        "y = data['target']\n",
        "\n",
        "# تقسیم داده‌ها به بخش‌های آموزش و آزمون\n",
        "X_train, X_test, y_train, y_test = train_test_split(X, y, test_size=0.2, random_state=42)\n",
        "\n",
        "# اعمال پیش‌پردازش مورد نیاز مانند مقیاس‌دهی داده‌ها\n",
        "scaler = StandardScaler()\n",
        "X_train_scaled = scaler.fit_transform(X_train)\n",
        "X_test_scaled = scaler.transform(X_test)\n",
        "\n",
        "# ادامه بقیه مراحل و اجرای مدل\n",
        "print(\"تعداد نمونه‌ها در بخش آموزش:\", len(X_train))\n",
        "print(\"تعداد نمونه‌ها در بخش آزمون:\", len(X_test))"
      ],
      "metadata": {
        "colab": {
          "base_uri": "https://localhost:8080/"
        },
        "id": "avj-dnWWoDUy",
        "outputId": "4a708301-0b02-48e0-ed33-376c0117ce53"
      },
      "execution_count": null,
      "outputs": [
        {
          "output_type": "stream",
          "name": "stdout",
          "text": [
            "تعداد نمونه‌ها در بخش آموزش: 820\n",
            "تعداد نمونه‌ها در بخش آزمون: 205\n"
          ]
        }
      ]
    },
    {
      "cell_type": "markdown",
      "source": [
        "ماتریس\n",
        "درهم ریختگی"
      ],
      "metadata": {
        "id": "1A44QKAgooqp"
      }
    },
    {
      "cell_type": "code",
      "source": [
        "from sklearn.naive_bayes import GaussianNB\n",
        "from sklearn.metrics import confusion_matrix, classification_report\n",
        "\n",
        "# ایجاد مدل Naive Bayes\n",
        "model = GaussianNB()\n",
        "\n",
        "# آموزش مدل با داده‌های آموزش\n",
        "model.fit(X_train_scaled, y_train)\n",
        "\n",
        "# پیش‌بینی برچسب‌ها برای داده‌های آزمون\n",
        "y_pred = model.predict(X_test_scaled)\n",
        "\n",
        "# محاسبه ماتریس درهم‌ریختگی\n",
        "conf_matrix = confusion_matrix(y_test, y_pred)\n",
        "print(\"ماتریس درهم‌ریختگی:\")\n",
        "print(conf_matrix)\n",
        "\n",
        "# تحلیل نتایج با استفاده از گزارش طبقه‌بندی\n",
        "class_report = classification_report(y_test, y_pred)\n",
        "print(\"گزارش طبقه‌بندی:\")\n",
        "print(class_report)"
      ],
      "metadata": {
        "colab": {
          "base_uri": "https://localhost:8080/"
        },
        "id": "ZcxQtNJUoqkJ",
        "outputId": "86399368-a63b-49a8-85b7-ce94a08ed8a3"
      },
      "execution_count": null,
      "outputs": [
        {
          "output_type": "stream",
          "name": "stdout",
          "text": [
            "ماتریس درهم‌ریختگی:\n",
            "[[72 30]\n",
            " [11 92]]\n",
            "گزارش طبقه‌بندی:\n",
            "              precision    recall  f1-score   support\n",
            "\n",
            "           0       0.87      0.71      0.78       102\n",
            "           1       0.75      0.89      0.82       103\n",
            "\n",
            "    accuracy                           0.80       205\n",
            "   macro avg       0.81      0.80      0.80       205\n",
            "weighted avg       0.81      0.80      0.80       205\n",
            "\n"
          ]
        }
      ]
    },
    {
      "cell_type": "markdown",
      "source": [
        "اعمال مدل طبقه‌بندی Bayes:\n"
      ],
      "metadata": {
        "id": "tElAgiKpo0_S"
      }
    },
    {
      "cell_type": "code",
      "source": [
        "from sklearn.naive_bayes import GaussianNB\n",
        "from sklearn.metrics import classification_report, confusion_matrix\n",
        "\n",
        "nb_model = GaussianNB()\n",
        "nb_model.fit(X_train_scaled, y_train)\n",
        "y_pred = nb_model.predict(X_test_scaled)\n",
        "\n",
        "# تحلیل نتایج\n",
        "print(\"ماتریس درهم ریختگی:\")\n",
        "print(confusion_matrix(y_test, y_pred))\n",
        "print(\"\\nگزارش طبقه‌بندی:\")\n",
        "print(classification_report(y_test, y_pred))"
      ],
      "metadata": {
        "colab": {
          "base_uri": "https://localhost:8080/"
        },
        "id": "FDzE2RDNo2Sh",
        "outputId": "16100c69-0640-4259-e40c-2e0274cf3dd8"
      },
      "execution_count": null,
      "outputs": [
        {
          "output_type": "stream",
          "name": "stdout",
          "text": [
            "ماتریس درهم ریختگی:\n",
            "[[57 21]\n",
            " [ 7 69]]\n",
            "\n",
            "گزارش طبقه‌بندی:\n",
            "              precision    recall  f1-score   support\n",
            "\n",
            "           0       0.89      0.73      0.80        78\n",
            "           1       0.77      0.91      0.83        76\n",
            "\n",
            "    accuracy                           0.82       154\n",
            "   macro avg       0.83      0.82      0.82       154\n",
            "weighted avg       0.83      0.82      0.82       154\n",
            "\n"
          ]
        }
      ]
    },
    {
      "cell_type": "code",
      "source": [
        "from google.colab import drive\n",
        "drive.mount('/content/drive')"
      ],
      "metadata": {
        "id": "cEbris-kL4DR"
      },
      "execution_count": null,
      "outputs": []
    },
    {
      "cell_type": "markdown",
      "source": [
        "درنهایت، پنج داده را به صورت تصادفی از مجموعۀ آزمون انتخاب کنید و خروجی واقعی را با خروجی پیش بینی شده مقایسه\n",
        "کنید."
      ],
      "metadata": {
        "id": "9SbuXZG6tDaC"
      }
    },
    {
      "cell_type": "code",
      "source": [
        "import numpy as np\n",
        "\n",
        "# انتخاب پنج اندیس تصادفی از مجموعه آزمون\n",
        "random_indices = np.random.choice(len(X_test), 5, replace=False)\n",
        "random_X_test = X_test.iloc[random_indices]\n",
        "random_y_test = y_test.iloc[random_indices]\n",
        "\n",
        "# پیش‌بینی برچسب‌ها برای داده‌های انتخاب شده\n",
        "random_y_pred = model.predict(random_X_test)\n",
        "\n",
        "# مقایسه خروجی واقعی و پیش‌بینی شده\n",
        "for i in range(5):\n",
        "    print(\"داده شماره\", i+1)\n",
        "    print(\"خروجی واقعی:\", random_y_test.iloc[i])\n",
        "    print(\"خروجی پیش‌بینی شده:\", random_y_pred[i])\n",
        "    print(\"-----------------------\")"
      ],
      "metadata": {
        "colab": {
          "base_uri": "https://localhost:8080/"
        },
        "id": "mCJDQhCbtKFl",
        "outputId": "3e4d61f2-0842-43f0-86fb-6674ca3fb34b"
      },
      "execution_count": null,
      "outputs": [
        {
          "output_type": "stream",
          "name": "stdout",
          "text": [
            "داده شماره 1\n",
            "خروجی واقعی: 0\n",
            "خروجی پیش‌بینی شده: 0\n",
            "-----------------------\n",
            "داده شماره 2\n",
            "خروجی واقعی: 0\n",
            "خروجی پیش‌بینی شده: 0\n",
            "-----------------------\n",
            "داده شماره 3\n",
            "خروجی واقعی: 1\n",
            "خروجی پیش‌بینی شده: 0\n",
            "-----------------------\n",
            "داده شماره 4\n",
            "خروجی واقعی: 1\n",
            "خروجی پیش‌بینی شده: 0\n",
            "-----------------------\n",
            "داده شماره 5\n",
            "خروجی واقعی: 1\n",
            "خروجی پیش‌بینی شده: 0\n",
            "-----------------------\n"
          ]
        },
        {
          "output_type": "stream",
          "name": "stderr",
          "text": [
            "/usr/local/lib/python3.10/dist-packages/sklearn/base.py:432: UserWarning: X has feature names, but GaussianNB was fitted without feature names\n",
            "  warnings.warn(\n"
          ]
        }
      ]
    }
  ]
}